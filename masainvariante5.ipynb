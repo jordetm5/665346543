{
  "nbformat": 4,
  "nbformat_minor": 0,
  "metadata": {
    "colab": {
      "name": "masainvariante5.ipynb",
      "version": "0.3.2",
      "provenance": [],
      "include_colab_link": true
    },
    "kernelspec": {
      "name": "python3",
      "display_name": "Python 3"
    }
  },
  "cells": [
    {
      "cell_type": "markdown",
      "metadata": {
        "id": "view-in-github",
        "colab_type": "text"
      },
      "source": [
        "<a href=\"https://colab.research.google.com/github/jordetm5/665346543/blob/master/masainvariante5.ipynb\" target=\"_parent\"><img src=\"https://colab.research.google.com/assets/colab-badge.svg\" alt=\"Open In Colab\"/></a>"
      ]
    },
    {
      "metadata": {
        "id": "e5tA8dXvzWfv",
        "colab_type": "code",
        "colab": {}
      },
      "cell_type": "code",
      "source": [
        "\n",
        "import pandas as pd\n",
        "import numpy as np\n",
        "import matplotlib.pyplot as plt\n",
        "from scipy.stats import norm"
      ],
      "execution_count": 0,
      "outputs": []
    },
    {
      "metadata": {
        "id": "d0eU15pC0ac1",
        "colab_type": "code",
        "colab": {
          "base_uri": "https://localhost:8080/",
          "height": 197
        },
        "outputId": "f8b66c16-a9f1-4ff4-9cda-62695f451c6d"
      },
      "cell_type": "code",
      "source": [
        "particles = pd.read_csv('https://goo.gl/GJGJ9m')\n",
        "particles.head()"
      ],
      "execution_count": 3,
      "outputs": [
        {
          "output_type": "execute_result",
          "data": {
            "text/html": [
              "<div>\n",
              "<style scoped>\n",
              "    .dataframe tbody tr th:only-of-type {\n",
              "        vertical-align: middle;\n",
              "    }\n",
              "\n",
              "    .dataframe tbody tr th {\n",
              "        vertical-align: top;\n",
              "    }\n",
              "\n",
              "    .dataframe thead th {\n",
              "        text-align: right;\n",
              "    }\n",
              "</style>\n",
              "<table border=\"1\" class=\"dataframe\">\n",
              "  <thead>\n",
              "    <tr style=\"text-align: right;\">\n",
              "      <th></th>\n",
              "      <th>Run</th>\n",
              "      <th>Event</th>\n",
              "      <th>pt</th>\n",
              "      <th>eta</th>\n",
              "      <th>phi</th>\n",
              "      <th>Q</th>\n",
              "      <th>chiSq</th>\n",
              "      <th>dxy</th>\n",
              "      <th>iso</th>\n",
              "      <th>MET</th>\n",
              "      <th>phiMET</th>\n",
              "    </tr>\n",
              "  </thead>\n",
              "  <tbody>\n",
              "    <tr>\n",
              "      <th>0</th>\n",
              "      <td>173389</td>\n",
              "      <td>489963747</td>\n",
              "      <td>29.3153</td>\n",
              "      <td>-0.1393</td>\n",
              "      <td>1.3561</td>\n",
              "      <td>1</td>\n",
              "      <td>0.8456</td>\n",
              "      <td>-0.0600</td>\n",
              "      <td>0.0000</td>\n",
              "      <td>30.6670</td>\n",
              "      <td>-2.1308</td>\n",
              "    </tr>\n",
              "    <tr>\n",
              "      <th>1</th>\n",
              "      <td>173389</td>\n",
              "      <td>490024840</td>\n",
              "      <td>44.1461</td>\n",
              "      <td>-1.3590</td>\n",
              "      <td>-0.5390</td>\n",
              "      <td>1</td>\n",
              "      <td>1.2943</td>\n",
              "      <td>-0.0126</td>\n",
              "      <td>26.3423</td>\n",
              "      <td>27.9521</td>\n",
              "      <td>-2.6686</td>\n",
              "    </tr>\n",
              "    <tr>\n",
              "      <th>2</th>\n",
              "      <td>173389</td>\n",
              "      <td>490102189</td>\n",
              "      <td>42.7895</td>\n",
              "      <td>-1.0193</td>\n",
              "      <td>2.3390</td>\n",
              "      <td>-1</td>\n",
              "      <td>0.8078</td>\n",
              "      <td>-0.0840</td>\n",
              "      <td>2.9748</td>\n",
              "      <td>5.1565</td>\n",
              "      <td>0.3061</td>\n",
              "    </tr>\n",
              "    <tr>\n",
              "      <th>3</th>\n",
              "      <td>173389</td>\n",
              "      <td>490092121</td>\n",
              "      <td>31.2215</td>\n",
              "      <td>-0.1270</td>\n",
              "      <td>-0.4889</td>\n",
              "      <td>-1</td>\n",
              "      <td>109.9490</td>\n",
              "      <td>0.0723</td>\n",
              "      <td>56.4897</td>\n",
              "      <td>4.2143</td>\n",
              "      <td>-0.1166</td>\n",
              "    </tr>\n",
              "    <tr>\n",
              "      <th>4</th>\n",
              "      <td>173389</td>\n",
              "      <td>490193981</td>\n",
              "      <td>36.9668</td>\n",
              "      <td>1.8557</td>\n",
              "      <td>1.3772</td>\n",
              "      <td>1</td>\n",
              "      <td>1.0597</td>\n",
              "      <td>-0.0676</td>\n",
              "      <td>41.4910</td>\n",
              "      <td>20.9963</td>\n",
              "      <td>-1.6251</td>\n",
              "    </tr>\n",
              "  </tbody>\n",
              "</table>\n",
              "</div>"
            ],
            "text/plain": [
              "      Run      Event       pt     eta     phi  Q     chiSq     dxy      iso  \\\n",
              "0  173389  489963747  29.3153 -0.1393  1.3561  1    0.8456 -0.0600   0.0000   \n",
              "1  173389  490024840  44.1461 -1.3590 -0.5390  1    1.2943 -0.0126  26.3423   \n",
              "2  173389  490102189  42.7895 -1.0193  2.3390 -1    0.8078 -0.0840   2.9748   \n",
              "3  173389  490092121  31.2215 -0.1270 -0.4889 -1  109.9490  0.0723  56.4897   \n",
              "4  173389  490193981  36.9668  1.8557  1.3772  1    1.0597 -0.0676  41.4910   \n",
              "\n",
              "       MET  phiMET  \n",
              "0  30.6670 -2.1308  \n",
              "1  27.9521 -2.6686  \n",
              "2   5.1565  0.3061  \n",
              "3   4.2143 -0.1166  \n",
              "4  20.9963 -1.6251  "
            ]
          },
          "metadata": {
            "tags": []
          },
          "execution_count": 3
        }
      ]
    },
    {
      "metadata": {
        "id": "ebwTh6Ac4_fn",
        "colab_type": "code",
        "colab": {
          "base_uri": "https://localhost:8080/",
          "height": 34
        },
        "outputId": "3ca01828-32dc-4559-d9f7-d49c2d695cb8"
      },
      "cell_type": "code",
      "source": [
        "len(particles)"
      ],
      "execution_count": 4,
      "outputs": [
        {
          "output_type": "execute_result",
          "data": {
            "text/plain": [
              "100000"
            ]
          },
          "metadata": {
            "tags": []
          },
          "execution_count": 4
        }
      ]
    },
    {
      "metadata": {
        "id": "eKNhNJtH6zaE",
        "colab_type": "code",
        "colab": {}
      },
      "cell_type": "code",
      "source": [
        "pt=np.array(particles.pt)\n",
        "MET=np.array(particles.MET)\n",
        "phiMET=np.array(particles.phiMET)\n",
        "phi=np.array(particles.phi)\n",
        "\n",
        "mass=np.sqrt(2*pt*MET*(1-np.cos(phi-phiMET)))"
      ],
      "execution_count": 0,
      "outputs": []
    },
    {
      "metadata": {
        "id": "mKOGjTTM8uM2",
        "colab_type": "code",
        "colab": {
          "base_uri": "https://localhost:8080/",
          "height": 650
        },
        "outputId": "b0d772e0-c6fe-478a-cb94-151d1fbf9a23"
      },
      "cell_type": "code",
      "source": [
        "fig = plt.figure(figsize=(15, 10))\n",
        "\n",
        "plt.hist(mass, bins=600,color='m')\n",
        "\n",
        "plt.xlabel('Tranversal mass (GeV/$c^2$)', fontsize = 15)\n",
        "plt.ylabel('Number of events \\n', fontsize = 15)\n",
        "plt.title('Measured distribution of events with one particles \\n', fontsize = 15)\n",
        "plt.xlim(0,200) #limito el eje x para que se vea bien\n",
        "plt.show()"
      ],
      "execution_count": 26,
      "outputs": [
        {
          "output_type": "display_data",
          "data": {
            "image/png": "[encoded data removed]",
            "text/plain": [
              "<Figure size 1080x720 with 1 Axes>"
            ]
          },
          "metadata": {
            "tags": []
          }
        }
      ]
    },
    {
      "metadata": {
        "id": "dxqY1YG9diMD",
        "colab_type": "code",
        "colab": {
          "base_uri": "https://localhost:8080/",
          "height": 646
        },
        "outputId": "eda8dc37-3c0e-4202-c93f-3d767e98536c"
      },
      "cell_type": "code",
      "source": [
        "# elegimos masas entre 60 y 80\n",
        "z=[]\n",
        "for i in range (len(mass)):\n",
        "  if mass[i]>=60 and mass[i]<=100:\n",
        "    z.append(mass[i])\n",
        "\n",
        "#graficamos\n",
        "fig = plt.figure(figsize=(15, 10))\n",
        "plt.hist(z, bins=300,color='skyblue')\n",
        "plt.xlabel('Transverse mass (GeV/$c^2$)')\n",
        "plt.axhline(60, 100)#limito el eje x para que se vea bien\n",
        "plt.title('Measured distribution of events with one particles \\n', fontsize = 15)\n",
        "plt.xlim(50,110)\n",
        "plt.show()"
      ],
      "execution_count": 30,
      "outputs": [
        {
          "output_type": "display_data",
          "data": {
            "image/png": "[encoded data removed]",
            "text/plain": [
              "<Figure size 1080x720 with 1 Axes>"
            ]
          },
          "metadata": {
            "tags": []
          }
        }
      ]
    }
  ]
}